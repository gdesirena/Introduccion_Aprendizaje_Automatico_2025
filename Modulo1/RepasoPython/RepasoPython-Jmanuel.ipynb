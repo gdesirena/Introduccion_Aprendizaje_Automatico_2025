{
 "cells": [
  {
   "cell_type": "code",
   "execution_count": 1,
   "id": "b5111f55-3232-45e7-bbc8-155029dccd90",
   "metadata": {},
   "outputs": [],
   "source": [
    "def resta(a,b):\n",
    "    c = a - b\n",
    "    return c"
   ]
  },
  {
   "cell_type": "code",
   "execution_count": 2,
   "id": "dc42994f-f957-481c-b1df-0692c8b4caf1",
   "metadata": {},
   "outputs": [
    {
     "data": {
      "text/plain": [
       "-1"
      ]
     },
     "execution_count": 2,
     "metadata": {},
     "output_type": "execute_result"
    }
   ],
   "source": [
    "resta(1,2)"
   ]
  },
  {
   "cell_type": "code",
   "execution_count": 3,
   "id": "f169c7b5-6bfb-40b5-aec3-cb287a4f536a",
   "metadata": {},
   "outputs": [
    {
     "name": "stdout",
     "output_type": "stream",
     "text": [
      "-1\n"
     ]
    }
   ],
   "source": [
    "print(resta(1,2))"
   ]
  },
  {
   "cell_type": "code",
   "execution_count": 4,
   "id": "100ddedd-1791-454e-a9e7-7e0c9e096ff4",
   "metadata": {},
   "outputs": [],
   "source": [
    "d = resta(1,2)"
   ]
  },
  {
   "cell_type": "code",
   "execution_count": 5,
   "id": "24570022-c740-411b-9263-cdd058dd59c0",
   "metadata": {},
   "outputs": [
    {
     "name": "stdout",
     "output_type": "stream",
     "text": [
      "-1\n"
     ]
    }
   ],
   "source": [
    "print(d)"
   ]
  },
  {
   "cell_type": "code",
   "execution_count": 1,
   "id": "22933858-f3c4-4b3c-a064-ab0362ca7134",
   "metadata": {},
   "outputs": [],
   "source": [
    "def imprimir_resta(a,b):\n",
    "    c = a-b\n",
    "    print(c)"
   ]
  },
  {
   "cell_type": "code",
   "execution_count": 2,
   "id": "a171e6b2-6f2f-489a-b343-5f59ab90d8e4",
   "metadata": {},
   "outputs": [
    {
     "name": "stdout",
     "output_type": "stream",
     "text": [
      "-3\n"
     ]
    }
   ],
   "source": [
    "imprimir_resta(1,4)"
   ]
  },
  {
   "cell_type": "code",
   "execution_count": 9,
   "id": "1f3e6e26-ddf6-45cd-b341-a4a9568ccfb1",
   "metadata": {},
   "outputs": [],
   "source": [
    "def imprimir_resta(a,b):\n",
    "    \"\"\" esta función imprime la resta de dos variables a, b \"\"\"\n",
    "    c = a-b\n",
    "    print(c)"
   ]
  },
  {
   "cell_type": "code",
   "execution_count": 11,
   "id": "496ef5c1-5d4b-4109-ae30-7de1e8d3f961",
   "metadata": {},
   "outputs": [
    {
     "name": "stdout",
     "output_type": "stream",
     "text": [
      "Help on function imprimir_resta in module __main__:\n",
      "\n",
      "imprimir_resta(a, b)\n",
      "    esta función imprime la resta de dos variables a, b\n",
      "\n"
     ]
    }
   ],
   "source": [
    "help(imprimir_resta)"
   ]
  },
  {
   "cell_type": "raw",
   "id": "fa0d5ef5-1672-4191-8f53-2658a3acc8c0",
   "metadata": {},
   "source": []
  },
  {
   "cell_type": "code",
   "execution_count": 12,
   "id": "d1c2babe-7452-4d1b-93b7-54372010d31d",
   "metadata": {},
   "outputs": [],
   "source": [
    "cadena = 'Esta es una cadena'"
   ]
  },
  {
   "cell_type": "code",
   "execution_count": 13,
   "id": "0cf02343-e471-4cb4-b51f-87339a29dbc7",
   "metadata": {},
   "outputs": [
    {
     "data": {
      "text/plain": [
       "3"
      ]
     },
     "execution_count": 13,
     "metadata": {},
     "output_type": "execute_result"
    }
   ],
   "source": [
    "cadena.find(\"a\")"
   ]
  },
  {
   "cell_type": "code",
   "execution_count": 15,
   "id": "ddcb9229-20b0-4466-adc2-ce89ee89e3e2",
   "metadata": {},
   "outputs": [
    {
     "name": "stdout",
     "output_type": "stream",
     "text": [
      "Hola: 5\n"
     ]
    }
   ],
   "source": [
    "print('Hola: ' + str(5))"
   ]
  },
  {
   "cell_type": "code",
   "execution_count": 16,
   "id": "542083a1-107d-4790-82a5-51919d72e7e6",
   "metadata": {},
   "outputs": [],
   "source": [
    "h = ' '.join('Este' + 'dia')"
   ]
  },
  {
   "cell_type": "code",
   "execution_count": 17,
   "id": "1568d804-cc6c-4664-9f9f-a9411cf38f71",
   "metadata": {},
   "outputs": [
    {
     "name": "stdout",
     "output_type": "stream",
     "text": [
      "E s t e d i a\n"
     ]
    }
   ],
   "source": [
    "print(h)"
   ]
  },
  {
   "cell_type": "code",
   "execution_count": 19,
   "id": "6c1019da-8586-40bd-a5ad-bd26af51a7cc",
   "metadata": {},
   "outputs": [
    {
     "name": "stdout",
     "output_type": "stream",
     "text": [
      "Este dia\n"
     ]
    }
   ],
   "source": [
    "h = ' '.join(('Este','dia'))\n",
    "print(h)"
   ]
  },
  {
   "cell_type": "code",
   "execution_count": 23,
   "id": "2cbd044c-aa8f-4f1c-ae6c-7813a6fe9773",
   "metadata": {},
   "outputs": [],
   "source": [
    "dia = 5\n",
    "mes = 12\n",
    "año = 1998\n",
    "fecha = '/'.join((str(dia), str(mes), str(año)))"
   ]
  },
  {
   "cell_type": "code",
   "execution_count": 24,
   "id": "be17adc0-6c00-450e-b55f-18d14b7b623d",
   "metadata": {},
   "outputs": [
    {
     "data": {
      "text/plain": [
       "'5/12/1998'"
      ]
     },
     "execution_count": 24,
     "metadata": {},
     "output_type": "execute_result"
    }
   ],
   "source": [
    "fecha"
   ]
  },
  {
   "cell_type": "code",
   "execution_count": 27,
   "id": "430b87ab-5a38-406c-adbc-7284c37aafd5",
   "metadata": {},
   "outputs": [
    {
     "name": "stdout",
     "output_type": "stream",
     "text": [
      "1 + 1.2 = 2.2\n",
      "3.142\n"
     ]
    }
   ],
   "source": [
    "c = 1\n",
    "d = 1.2\n",
    "e = c + d\n",
    "print(\"{} + {} = {}\".format(c, d, e))\n",
    "#print(\"El {} de esta semana.\".format(día.lower()))\n",
    "print(\"{:.3f}\".format(3.141596))"
   ]
  },
  {
   "cell_type": "code",
   "execution_count": 31,
   "id": "52813d9f-69ee-44e5-b057-43493f02c950",
   "metadata": {},
   "outputs": [
    {
     "name": "stdout",
     "output_type": "stream",
     "text": [
      "f1 + 2 = 3.1\n"
     ]
    }
   ],
   "source": [
    "a = 1\n",
    "b = 2\n",
    "c = 3.1\n",
    "print(\"f{} + {} = {}\".format(a, b, c))"
   ]
  },
  {
   "cell_type": "code",
   "execution_count": 28,
   "id": "666bdb3a-b146-42c2-8a70-5ca5a895cd88",
   "metadata": {},
   "outputs": [
    {
     "name": "stdout",
     "output_type": "stream",
     "text": [
      "['__new__', '__repr__', '__hash__', '__str__', '__getattribute__', '__lt__', '__le__', '__eq__', '__ne__', '__gt__', '__ge__', '__iter__', '__mod__', '__rmod__', '__len__', '__getitem__', '__add__', '__mul__', '__rmul__', '__contains__', 'encode', 'replace', 'split', 'rsplit', 'join', 'capitalize', 'casefold', 'title', 'center', 'count', 'expandtabs', 'find', 'partition', 'index', 'ljust', 'lower', 'lstrip', 'rfind', 'rindex', 'rjust', 'rstrip', 'rpartition', 'splitlines', 'strip', 'swapcase', 'translate', 'upper', 'startswith', 'endswith', 'removeprefix', 'removesuffix', 'isascii', 'islower', 'isupper', 'istitle', 'isspace', 'isdecimal', 'isdigit', 'isnumeric', 'isalpha', 'isalnum', 'isidentifier', 'isprintable', 'zfill', 'format', 'format_map', '__format__', 'maketrans', '__sizeof__', '__getnewargs__', '__doc__', '__setattr__', '__delattr__', '__init__', '__reduce_ex__', '__reduce__', '__getstate__', '__subclasshook__', '__init_subclass__', '__dir__', '__class__']\n"
     ]
    }
   ],
   "source": [
    "print(h.__dir__())"
   ]
  },
  {
   "cell_type": "code",
   "execution_count": 33,
   "id": "d53d6466-cc93-434f-9e64-a2bf77d5ab09",
   "metadata": {},
   "outputs": [
    {
     "data": {
      "text/plain": [
       "'Esta es una cadena'"
      ]
     },
     "execution_count": 33,
     "metadata": {},
     "output_type": "execute_result"
    }
   ],
   "source": [
    "cadena"
   ]
  },
  {
   "cell_type": "code",
   "execution_count": 34,
   "id": "6915b71f-2337-4445-af26-636c7cc8e5f1",
   "metadata": {},
   "outputs": [
    {
     "data": {
      "text/plain": [
       "'Es'"
      ]
     },
     "execution_count": 34,
     "metadata": {},
     "output_type": "execute_result"
    }
   ],
   "source": [
    "cadena[0:2]"
   ]
  },
  {
   "cell_type": "code",
   "execution_count": 37,
   "id": "8440b2a3-5a2d-4488-8150-8f2d78b7d762",
   "metadata": {},
   "outputs": [
    {
     "data": {
      "text/plain": [
       "' es una cadena'"
      ]
     },
     "execution_count": 37,
     "metadata": {},
     "output_type": "execute_result"
    }
   ],
   "source": [
    "cadena[4:]"
   ]
  },
  {
   "cell_type": "code",
   "execution_count": 41,
   "id": "7613d88e-2815-455e-8e6f-adb567747a59",
   "metadata": {},
   "outputs": [
    {
     "data": {
      "text/plain": [
       "' es '"
      ]
     },
     "execution_count": 41,
     "metadata": {},
     "output_type": "execute_result"
    }
   ],
   "source": [
    "cadena[4:8]"
   ]
  },
  {
   "cell_type": "code",
   "execution_count": 42,
   "id": "5269ecb9-36d2-4af3-97c6-ceaa2be3e8d2",
   "metadata": {},
   "outputs": [
    {
     "data": {
      "text/plain": [
       "'Et suacdn'"
      ]
     },
     "execution_count": 42,
     "metadata": {},
     "output_type": "execute_result"
    }
   ],
   "source": [
    "cadena[0::2]"
   ]
  },
  {
   "cell_type": "code",
   "execution_count": 44,
   "id": "3ba5e8f2-1ef9-474c-9b7b-6f5ef66f8bb9",
   "metadata": {},
   "outputs": [],
   "source": [
    "a = [1,2,3,4]"
   ]
  },
  {
   "cell_type": "code",
   "execution_count": 45,
   "id": "f4865045-af2e-44eb-a2ed-9bf06502e817",
   "metadata": {},
   "outputs": [],
   "source": [
    "def agregar(a):\n",
    "    for i in range(10):\n",
    "        if i in a:\n",
    "            a.append(i)\n",
    "    return a"
   ]
  },
  {
   "cell_type": "code",
   "execution_count": 50,
   "id": "78b2d7c8-79cf-4da3-818a-f712a07d3e53",
   "metadata": {},
   "outputs": [
    {
     "name": "stdout",
     "output_type": "stream",
     "text": [
      "Juan\n",
      "ZAC\n"
     ]
    }
   ],
   "source": [
    "persona = {'nombre': 'Juan', 'apellido': 'Alegría', 'ciudad': 'ZAC'}\n",
    "print(persona['nombre'])\n",
    "print(persona['ciudad'])"
   ]
  },
  {
   "cell_type": "code",
   "execution_count": 52,
   "id": "40923d5a-d001-4d51-b8be-69135158c882",
   "metadata": {},
   "outputs": [],
   "source": [
    "## Diccionarios ##"
   ]
  },
  {
   "cell_type": "code",
   "execution_count": 53,
   "id": "61e25f2a-d690-4d2b-94ad-35d97abc4e8f",
   "metadata": {},
   "outputs": [
    {
     "data": {
      "text/plain": [
       "dict_keys(['nombre', 'apellido', 'ciudad'])"
      ]
     },
     "execution_count": 53,
     "metadata": {},
     "output_type": "execute_result"
    }
   ],
   "source": [
    "persona.keys()"
   ]
  },
  {
   "cell_type": "code",
   "execution_count": 54,
   "id": "f32a3828-6805-48da-b31a-c1724a010c0b",
   "metadata": {},
   "outputs": [
    {
     "data": {
      "text/plain": [
       "dict_values(['Juan', 'Alegría', 'ZAC'])"
      ]
     },
     "execution_count": 54,
     "metadata": {},
     "output_type": "execute_result"
    }
   ],
   "source": [
    "persona.values()"
   ]
  },
  {
   "cell_type": "code",
   "execution_count": 55,
   "id": "df840787-c812-4446-9614-1ab2fcc95190",
   "metadata": {},
   "outputs": [
    {
     "name": "stdout",
     "output_type": "stream",
     "text": [
      "Help on class dict in module builtins:\n",
      "\n",
      "class dict(object)\n",
      " |  dict() -> new empty dictionary\n",
      " |  dict(mapping) -> new dictionary initialized from a mapping object's\n",
      " |      (key, value) pairs\n",
      " |  dict(iterable) -> new dictionary initialized as if via:\n",
      " |      d = {}\n",
      " |      for k, v in iterable:\n",
      " |          d[k] = v\n",
      " |  dict(**kwargs) -> new dictionary initialized with the name=value pairs\n",
      " |      in the keyword argument list.  For example:  dict(one=1, two=2)\n",
      " |\n",
      " |  Built-in subclasses:\n",
      " |      StgDict\n",
      " |\n",
      " |  Methods defined here:\n",
      " |\n",
      " |  __contains__(self, key, /)\n",
      " |      True if the dictionary has the specified key, else False.\n",
      " |\n",
      " |  __delitem__(self, key, /)\n",
      " |      Delete self[key].\n",
      " |\n",
      " |  __eq__(self, value, /)\n",
      " |      Return self==value.\n",
      " |\n",
      " |  __ge__(self, value, /)\n",
      " |      Return self>=value.\n",
      " |\n",
      " |  __getattribute__(self, name, /)\n",
      " |      Return getattr(self, name).\n",
      " |\n",
      " |  __getitem__(self, key, /)\n",
      " |      Return self[key].\n",
      " |\n",
      " |  __gt__(self, value, /)\n",
      " |      Return self>value.\n",
      " |\n",
      " |  __init__(self, /, *args, **kwargs)\n",
      " |      Initialize self.  See help(type(self)) for accurate signature.\n",
      " |\n",
      " |  __ior__(self, value, /)\n",
      " |      Return self|=value.\n",
      " |\n",
      " |  __iter__(self, /)\n",
      " |      Implement iter(self).\n",
      " |\n",
      " |  __le__(self, value, /)\n",
      " |      Return self<=value.\n",
      " |\n",
      " |  __len__(self, /)\n",
      " |      Return len(self).\n",
      " |\n",
      " |  __lt__(self, value, /)\n",
      " |      Return self<value.\n",
      " |\n",
      " |  __ne__(self, value, /)\n",
      " |      Return self!=value.\n",
      " |\n",
      " |  __or__(self, value, /)\n",
      " |      Return self|value.\n",
      " |\n",
      " |  __repr__(self, /)\n",
      " |      Return repr(self).\n",
      " |\n",
      " |  __reversed__(self, /)\n",
      " |      Return a reverse iterator over the dict keys.\n",
      " |\n",
      " |  __ror__(self, value, /)\n",
      " |      Return value|self.\n",
      " |\n",
      " |  __setitem__(self, key, value, /)\n",
      " |      Set self[key] to value.\n",
      " |\n",
      " |  __sizeof__(...)\n",
      " |      D.__sizeof__() -> size of D in memory, in bytes\n",
      " |\n",
      " |  clear(...)\n",
      " |      D.clear() -> None.  Remove all items from D.\n",
      " |\n",
      " |  copy(...)\n",
      " |      D.copy() -> a shallow copy of D\n",
      " |\n",
      " |  get(self, key, default=None, /)\n",
      " |      Return the value for key if key is in the dictionary, else default.\n",
      " |\n",
      " |  items(...)\n",
      " |      D.items() -> a set-like object providing a view on D's items\n",
      " |\n",
      " |  keys(...)\n",
      " |      D.keys() -> a set-like object providing a view on D's keys\n",
      " |\n",
      " |  pop(...)\n",
      " |      D.pop(k[,d]) -> v, remove specified key and return the corresponding value.\n",
      " |\n",
      " |      If the key is not found, return the default if given; otherwise,\n",
      " |      raise a KeyError.\n",
      " |\n",
      " |  popitem(self, /)\n",
      " |      Remove and return a (key, value) pair as a 2-tuple.\n",
      " |\n",
      " |      Pairs are returned in LIFO (last-in, first-out) order.\n",
      " |      Raises KeyError if the dict is empty.\n",
      " |\n",
      " |  setdefault(self, key, default=None, /)\n",
      " |      Insert key with a value of default if key is not in the dictionary.\n",
      " |\n",
      " |      Return the value for key if key is in the dictionary, else default.\n",
      " |\n",
      " |  update(...)\n",
      " |      D.update([E, ]**F) -> None.  Update D from dict/iterable E and F.\n",
      " |      If E is present and has a .keys() method, then does:  for k in E: D[k] = E[k]\n",
      " |      If E is present and lacks a .keys() method, then does:  for k, v in E: D[k] = v\n",
      " |      In either case, this is followed by: for k in F:  D[k] = F[k]\n",
      " |\n",
      " |  values(...)\n",
      " |      D.values() -> an object providing a view on D's values\n",
      " |\n",
      " |  ----------------------------------------------------------------------\n",
      " |  Class methods defined here:\n",
      " |\n",
      " |  __class_getitem__(...)\n",
      " |      See PEP 585\n",
      " |\n",
      " |  fromkeys(iterable, value=None, /)\n",
      " |      Create a new dictionary with keys from iterable and values set to value.\n",
      " |\n",
      " |  ----------------------------------------------------------------------\n",
      " |  Static methods defined here:\n",
      " |\n",
      " |  __new__(*args, **kwargs)\n",
      " |      Create and return a new object.  See help(type) for accurate signature.\n",
      " |\n",
      " |  ----------------------------------------------------------------------\n",
      " |  Data and other attributes defined here:\n",
      " |\n",
      " |  __hash__ = None\n",
      "\n"
     ]
    }
   ],
   "source": [
    "help(dict)"
   ]
  },
  {
   "cell_type": "code",
   "execution_count": 56,
   "id": "9aacfe45-b71f-4516-9c09-d5660d502dcd",
   "metadata": {},
   "outputs": [
    {
     "data": {
      "text/plain": [
       "\u001b[1;31mDocstring:\u001b[0m D.items() -> a set-like object providing a view on D's items\n",
       "\u001b[1;31mType:\u001b[0m      builtin_function_or_method"
      ]
     },
     "metadata": {},
     "output_type": "display_data"
    }
   ],
   "source": [
    "persona.items?"
   ]
  },
  {
   "cell_type": "code",
   "execution_count": 57,
   "id": "5cea5ea7-5bae-48bd-a683-21abf3eb3558",
   "metadata": {},
   "outputs": [
    {
     "data": {
      "text/plain": [
       "dict_items([('nombre', 'Juan'), ('apellido', 'Alegría'), ('ciudad', 'ZAC')])"
      ]
     },
     "execution_count": 57,
     "metadata": {},
     "output_type": "execute_result"
    }
   ],
   "source": [
    "persona.items()"
   ]
  },
  {
   "cell_type": "code",
   "execution_count": 58,
   "id": "a59c9333-04e7-421b-a537-f396db33d228",
   "metadata": {},
   "outputs": [
    {
     "name": "stdout",
     "output_type": "stream",
     "text": [
      "nombre Juan\n",
      "apellido Alegría\n",
      "ciudad ZAC\n"
     ]
    }
   ],
   "source": [
    "for k,v in persona.items():\n",
    "    print(k,v)"
   ]
  },
  {
   "cell_type": "code",
   "execution_count": 59,
   "id": "d2f32ffb-d225-4af7-ae9e-8ac686920f13",
   "metadata": {},
   "outputs": [],
   "source": [
    "## Control Flujo"
   ]
  },
  {
   "cell_type": "code",
   "execution_count": 62,
   "id": "8d69684d-535c-4456-8208-9542be389499",
   "metadata": {},
   "outputs": [],
   "source": [
    "a = 4\n",
    "if a == 5 :\n",
    "    print('Valor correcto')"
   ]
  },
  {
   "cell_type": "code",
   "execution_count": 63,
   "id": "98657cfb-aec7-47c8-8621-cbab0ba131b8",
   "metadata": {},
   "outputs": [
    {
     "name": "stdout",
     "output_type": "stream",
     "text": [
      "Valor correcto\n"
     ]
    }
   ],
   "source": [
    "a = 5\n",
    "if a == 5 :\n",
    "    print('Valor correcto')"
   ]
  },
  {
   "cell_type": "code",
   "execution_count": 64,
   "id": "49899cd0-d766-45a5-ab69-7b22564d99e5",
   "metadata": {},
   "outputs": [
    {
     "name": "stdout",
     "output_type": "stream",
     "text": [
      "Valor correcto\n"
     ]
    }
   ],
   "source": [
    "if a:\n",
    "    print('Valor correcto')"
   ]
  },
  {
   "cell_type": "code",
   "execution_count": 67,
   "id": "94a9d479-930e-42b8-9c0a-635517f9db15",
   "metadata": {},
   "outputs": [],
   "source": [
    "a = 0\n",
    "if a:\n",
    "    print('Valor correcto')"
   ]
  },
  {
   "cell_type": "code",
   "execution_count": 69,
   "id": "26123233-53fe-44b2-b94f-67c92bfe75ad",
   "metadata": {},
   "outputs": [
    {
     "name": "stdout",
     "output_type": "stream",
     "text": [
      "El 4 esta en la lista\n"
     ]
    }
   ],
   "source": [
    "lista = [1,2,3,4]\n",
    "if 4 in lista:\n",
    "    print('El 4 esta en la lista')"
   ]
  },
  {
   "cell_type": "code",
   "execution_count": 70,
   "id": "722dedc6-1a9d-4f10-bb58-d0cefa7c9929",
   "metadata": {},
   "outputs": [
    {
     "name": "stdout",
     "output_type": "stream",
     "text": [
      "F\n",
      "a\n",
      "n\n",
      "t\n",
      "á\n",
      "s\n",
      "t\n",
      "i\n",
      "c\n",
      "o\n"
     ]
    }
   ],
   "source": [
    "f = \"Fantástico\"\n",
    "for i in range(10):\n",
    "    print(f[i])"
   ]
  },
  {
   "cell_type": "code",
   "execution_count": 71,
   "id": "aa8a0aff-0e79-40fd-810f-0fd8a52d798d",
   "metadata": {},
   "outputs": [
    {
     "name": "stdout",
     "output_type": "stream",
     "text": [
      "0\n",
      "1\n",
      "2\n",
      "3\n"
     ]
    }
   ],
   "source": [
    "for i in range(len(lista)):\n",
    "    print(i)"
   ]
  },
  {
   "cell_type": "code",
   "execution_count": 72,
   "id": "0773f66a-b9af-414c-8ce9-f5cace2c3aaa",
   "metadata": {},
   "outputs": [
    {
     "data": {
      "text/plain": [
       "[0, 1, 2, 3, 4, 5, 6, 7, 8, 9]"
      ]
     },
     "execution_count": 72,
     "metadata": {},
     "output_type": "execute_result"
    }
   ],
   "source": [
    "[i for i in range(10)]"
   ]
  },
  {
   "cell_type": "code",
   "execution_count": 73,
   "id": "4a1353a8-67eb-4ed8-8c70-579382256bb1",
   "metadata": {},
   "outputs": [
    {
     "name": "stdout",
     "output_type": "stream",
     "text": [
      "[0, 1, 2, 3, 4, 5, 6, 7, 8, 9, 10, 11, 12, 13, 14, 15, 16, 17, 18, 19, 20, 21, 22, 23, 24, 25, 26, 27, 28, 29, 30, 31, 32, 33, 34, 35, 36, 37, 38, 39, 40, 41, 42, 43, 44, 45, 46, 47, 48, 49]\n"
     ]
    }
   ],
   "source": [
    "lista = [i for i in range(50)]\n",
    "print(lista)"
   ]
  },
  {
   "cell_type": "code",
   "execution_count": 3,
   "id": "84448b8a-4582-4671-abfe-dd2f4021429a",
   "metadata": {},
   "outputs": [
    {
     "name": "stdout",
     "output_type": "stream",
     "text": [
      "2\n",
      "4\n",
      "6\n",
      "8\n"
     ]
    }
   ],
   "source": [
    "for i in range(2,10,2):\n",
    "    print(i)\n",
    "    "
   ]
  },
  {
   "cell_type": "code",
   "execution_count": 4,
   "id": "57a9d674-a69b-4a1d-952e-86d658a2b33e",
   "metadata": {},
   "outputs": [
    {
     "data": {
      "text/plain": [
       "[2, 4, 6, 8]"
      ]
     },
     "execution_count": 4,
     "metadata": {},
     "output_type": "execute_result"
    }
   ],
   "source": [
    "lista = list(range(2,10,2))\n",
    "lista"
   ]
  },
  {
   "cell_type": "code",
   "execution_count": 80,
   "id": "12c17b68-0266-4f13-910b-160a91bb1809",
   "metadata": {},
   "outputs": [],
   "source": [
    "## While"
   ]
  },
  {
   "cell_type": "code",
   "execution_count": 84,
   "id": "9aa8ffdf-5c84-4e2c-9ca0-206bc6c1522c",
   "metadata": {},
   "outputs": [
    {
     "name": "stdout",
     "output_type": "stream",
     "text": [
      "8\n",
      "9\n",
      "4\n",
      "9\n",
      "7\n",
      "4\n",
      "7\n",
      "1\n",
      "1\n",
      "5\n"
     ]
    }
   ],
   "source": [
    "import random\n",
    "a = 0\n",
    "while a != 5:\n",
    "    a = int(random.random() * 10)\n",
    "    print(a)"
   ]
  },
  {
   "cell_type": "code",
   "execution_count": null,
   "id": "159913dd-8b51-48cf-9ed5-7d5b4011aeb6",
   "metadata": {},
   "outputs": [],
   "source": [
    "## Try and Except"
   ]
  },
  {
   "cell_type": "code",
   "execution_count": 85,
   "id": "889fd036-ca49-4f33-8510-cb63926d2d94",
   "metadata": {},
   "outputs": [
    {
     "ename": "ValueError",
     "evalue": "La variable a tiene no puede ser igual a cero.",
     "output_type": "error",
     "traceback": [
      "\u001b[1;31m---------------------------------------------------------------------------\u001b[0m",
      "\u001b[1;31mZeroDivisionError\u001b[0m                         Traceback (most recent call last)",
      "Cell \u001b[1;32mIn[85], line 4\u001b[0m\n\u001b[0;32m      2\u001b[0m \u001b[38;5;28;01mtry\u001b[39;00m:\n\u001b[0;32m      3\u001b[0m     \u001b[38;5;66;03m# haremos algo ilegal\u001b[39;00m\n\u001b[1;32m----> 4\u001b[0m     fff \u001b[38;5;241m=\u001b[39m \u001b[38;5;241m100\u001b[39m \u001b[38;5;241m/\u001b[39m a\n\u001b[0;32m      5\u001b[0m \u001b[38;5;28;01mexcept\u001b[39;00m:\n",
      "\u001b[1;31mZeroDivisionError\u001b[0m: division by zero",
      "\nDuring handling of the above exception, another exception occurred:\n",
      "\u001b[1;31mValueError\u001b[0m                                Traceback (most recent call last)",
      "Cell \u001b[1;32mIn[85], line 6\u001b[0m\n\u001b[0;32m      4\u001b[0m     fff \u001b[38;5;241m=\u001b[39m \u001b[38;5;241m100\u001b[39m \u001b[38;5;241m/\u001b[39m a\n\u001b[0;32m      5\u001b[0m \u001b[38;5;28;01mexcept\u001b[39;00m:\n\u001b[1;32m----> 6\u001b[0m     \u001b[38;5;28;01mraise\u001b[39;00m \u001b[38;5;167;01mValueError\u001b[39;00m(\u001b[38;5;124m'\u001b[39m\u001b[38;5;124mLa variable a tiene no puede ser igual a cero.\u001b[39m\u001b[38;5;124m'\u001b[39m)\n",
      "\u001b[1;31mValueError\u001b[0m: La variable a tiene no puede ser igual a cero."
     ]
    }
   ],
   "source": [
    "a = 0\n",
    "try:\n",
    "    # haremos algo ilegal\n",
    "    fff = 100 / a\n",
    "except:\n",
    "    raise ValueError('La variable a tiene no puede ser igual a cero.')"
   ]
  },
  {
   "cell_type": "code",
   "execution_count": 86,
   "id": "efd2a594-f2a3-4088-994f-7ffde12ef64c",
   "metadata": {},
   "outputs": [
    {
     "name": "stdout",
     "output_type": "stream",
     "text": [
      "100000000\n"
     ]
    }
   ],
   "source": [
    "a = 0\n",
    "try:\n",
    "    # haremos algo ilegal\n",
    "    fff = 100 / a\n",
    "except:\n",
    "    # En lugar de generar un error asignamos un valor alto a fff\n",
    "    fff = 100000000\n",
    "\n",
    "print(fff)"
   ]
  },
  {
   "cell_type": "code",
   "execution_count": 96,
   "id": "7865aa85-61bc-4959-817f-88df374bb908",
   "metadata": {},
   "outputs": [
    {
     "ename": "SyntaxError",
     "evalue": "invalid syntax. Maybe you meant '==' or ':=' instead of '='? (879653946.py, line 1)",
     "output_type": "error",
     "traceback": [
      "\u001b[1;36m  Cell \u001b[1;32mIn[96], line 1\u001b[1;36m\u001b[0m\n\u001b[1;33m    for (i=1 to 1000):\u001b[0m\n\u001b[1;37m         ^\u001b[0m\n\u001b[1;31mSyntaxError\u001b[0m\u001b[1;31m:\u001b[0m invalid syntax. Maybe you meant '==' or ':=' instead of '='?\n"
     ]
    }
   ],
   "source": [
    "for (i=1 to 1000):\n",
    "    if (i == 50):\n",
    "        break\n",
    "\n",
    "print(i)"
   ]
  },
  {
   "cell_type": "code",
   "execution_count": null,
   "id": "d5ee7d0f-9c2d-4fd7-ba66-222156a04f34",
   "metadata": {},
   "outputs": [],
   "source": []
  },
  {
   "cell_type": "code",
   "execution_count": null,
   "id": "f1eeb807-0f04-461c-a83b-f686a37244bb",
   "metadata": {},
   "outputs": [],
   "source": []
  }
 ],
 "metadata": {
  "kernelspec": {
   "display_name": "Python 3 (ipykernel)",
   "language": "python",
   "name": "python3"
  },
  "language_info": {
   "codemirror_mode": {
    "name": "ipython",
    "version": 3
   },
   "file_extension": ".py",
   "mimetype": "text/x-python",
   "name": "python",
   "nbconvert_exporter": "python",
   "pygments_lexer": "ipython3",
   "version": "3.12.4"
  }
 },
 "nbformat": 4,
 "nbformat_minor": 5
}

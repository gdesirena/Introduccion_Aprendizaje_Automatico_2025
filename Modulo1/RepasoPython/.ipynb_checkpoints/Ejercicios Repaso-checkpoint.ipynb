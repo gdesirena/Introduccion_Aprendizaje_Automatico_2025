{
 "cells": [
  {
   "cell_type": "code",
   "execution_count": null,
   "id": "9b4ed5d4-9ed3-4bf8-b408-45df65274319",
   "metadata": {},
   "outputs": [],
   "source": [
    "## 1.- Imprime los números del 1 as 10 usando un ciclo"
   ]
  },
  {
   "cell_type": "code",
   "execution_count": 3,
   "id": "5389c412-81fe-4ac0-b629-4f2fa501fcc9",
   "metadata": {},
   "outputs": [
    {
     "name": "stdout",
     "output_type": "stream",
     "text": [
      "1\n",
      "2\n",
      "3\n",
      "4\n",
      "5\n",
      "6\n",
      "7\n",
      "8\n",
      "9\n",
      "10\n"
     ]
    }
   ],
   "source": [
    "for i in range(1,11):\n",
    "    print(i)"
   ]
  },
  {
   "cell_type": "code",
   "execution_count": null,
   "id": "3219836c-d39c-4265-a660-6bf61102805e",
   "metadata": {},
   "outputs": [],
   "source": [
    "## 2.- Calcula la suma de todos los numeros pares entre 1 y 100"
   ]
  },
  {
   "cell_type": "code",
   "execution_count": 7,
   "id": "185dff2b-f422-4428-92c7-81cb27bf3a7e",
   "metadata": {},
   "outputs": [
    {
     "name": "stdout",
     "output_type": "stream",
     "text": [
      "2450\n"
     ]
    }
   ],
   "source": [
    "suma = 0\n",
    "for i in range(100):\n",
    "    if i%2 == 0:\n",
    "        suma += i        \n",
    "print(suma)"
   ]
  },
  {
   "cell_type": "code",
   "execution_count": null,
   "id": "aec844e4-f059-417c-a1f1-2ede3c849757",
   "metadata": {},
   "outputs": [],
   "source": [
    "## 3.- Pide al usuario un número y deermina si es par o impar "
   ]
  },
  {
   "cell_type": "code",
   "execution_count": 12,
   "id": "86b2514b-ff28-4b23-9e67-c1fca1a82730",
   "metadata": {},
   "outputs": [
    {
     "name": "stdin",
     "output_type": "stream",
     "text": [
      "Introduce un número 13\n"
     ]
    },
    {
     "name": "stdout",
     "output_type": "stream",
     "text": [
      "el número es impar\n"
     ]
    }
   ],
   "source": [
    "numero = int(input('Introduce un número'))\n",
    "if numero%2 == 0:\n",
    "    print('el número es par')\n",
    "else:\n",
    "    print('el número es impar')\n"
   ]
  },
  {
   "cell_type": "code",
   "execution_count": null,
   "id": "4d898ae9-e600-476c-be2c-d9447adb0c57",
   "metadata": {},
   "outputs": [],
   "source": [
    "## 4.- Crea una función que reciba una lista y devuelva la lista invertida "
   ]
  },
  {
   "cell_type": "code",
   "execution_count": 37,
   "id": "105538a9-e7ed-4b46-8c6c-a4c1ef381c64",
   "metadata": {},
   "outputs": [
    {
     "data": {
      "text/plain": [
       "[5, 4, 3, 2, 1]"
      ]
     },
     "execution_count": 37,
     "metadata": {},
     "output_type": "execute_result"
    }
   ],
   "source": [
    "def lista_invertida(a):\n",
    "    invertida = []\n",
    "    for i in a[::-1]:\n",
    "        invertida.append(i)\n",
    "    return invertida\n",
    "lista_invertida([1,2,3,4,5])\n",
    "        "
   ]
  },
  {
   "cell_type": "code",
   "execution_count": null,
   "id": "569b1e75-f678-46bc-a6e9-add7e373053a",
   "metadata": {},
   "outputs": [],
   "source": [
    "## 5.- Escribe un programa que calcule el factorial de un numero dado por el usuario "
   ]
  },
  {
   "cell_type": "code",
   "execution_count": 44,
   "id": "5090ea95-b93e-4ce5-a05e-935b57c696e6",
   "metadata": {},
   "outputs": [
    {
     "name": "stdin",
     "output_type": "stream",
     "text": [
      "Introduce un número:  5\n"
     ]
    },
    {
     "name": "stdout",
     "output_type": "stream",
     "text": [
      "Factorial del número 5 es: 120\n"
     ]
    }
   ],
   "source": [
    "numero = int(input('Introduce un número: '))\n",
    "factorial = 1\n",
    "for i in range(1,numero+1):\n",
    "    factorial *= i\n",
    "print(f\"Factorial del número {numero} es: {factorial}\")"
   ]
  },
  {
   "cell_type": "code",
   "execution_count": null,
   "id": "939f36f6-b302-4286-a45b-6b1e560f4140",
   "metadata": {},
   "outputs": [],
   "source": []
  }
 ],
 "metadata": {
  "kernelspec": {
   "display_name": "Python 3 (ipykernel)",
   "language": "python",
   "name": "python3"
  },
  "language_info": {
   "codemirror_mode": {
    "name": "ipython",
    "version": 3
   },
   "file_extension": ".py",
   "mimetype": "text/x-python",
   "name": "python",
   "nbconvert_exporter": "python",
   "pygments_lexer": "ipython3",
   "version": "3.12.4"
  }
 },
 "nbformat": 4,
 "nbformat_minor": 5
}

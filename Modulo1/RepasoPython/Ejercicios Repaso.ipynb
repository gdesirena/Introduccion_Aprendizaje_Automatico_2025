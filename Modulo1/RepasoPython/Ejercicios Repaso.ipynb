{
 "cells": [
  {
   "cell_type": "code",
   "execution_count": null,
   "id": "9b4ed5d4-9ed3-4bf8-b408-45df65274319",
   "metadata": {},
   "outputs": [],
   "source": [
    "## 1.- Imprime los números del 1 as 10 usando un ciclo"
   ]
  },
  {
   "cell_type": "code",
   "execution_count": 3,
   "id": "5389c412-81fe-4ac0-b629-4f2fa501fcc9",
   "metadata": {},
   "outputs": [
    {
     "name": "stdout",
     "output_type": "stream",
     "text": [
      "1\n",
      "2\n",
      "3\n",
      "4\n",
      "5\n",
      "6\n",
      "7\n",
      "8\n",
      "9\n",
      "10\n"
     ]
    }
   ],
   "source": [
    "for i in range(1,11):\n",
    "    print(i)"
   ]
  },
  {
   "cell_type": "code",
   "execution_count": null,
   "id": "3219836c-d39c-4265-a660-6bf61102805e",
   "metadata": {},
   "outputs": [],
   "source": [
    "## 2.- Calcula la suma de todos los numeros pares entre 1 y 100"
   ]
  },
  {
   "cell_type": "code",
   "execution_count": 1,
   "id": "185dff2b-f422-4428-92c7-81cb27bf3a7e",
   "metadata": {},
   "outputs": [
    {
     "name": "stdout",
     "output_type": "stream",
     "text": [
      "2550\n"
     ]
    }
   ],
   "source": [
    "suma = 0\n",
    "for i in range(1,101):\n",
    "    if i%2 == 0:\n",
    "        suma += i        \n",
    "print(suma)"
   ]
  },
  {
   "cell_type": "code",
   "execution_count": 2,
   "id": "660d5aa7-d456-4766-9f7e-92a645616400",
   "metadata": {},
   "outputs": [
    {
     "name": "stdout",
     "output_type": "stream",
     "text": [
      "2550\n"
     ]
    }
   ],
   "source": [
    "lista = list(range(2,101,2))\n",
    "print(sum(lista))"
   ]
  },
  {
   "cell_type": "code",
   "execution_count": null,
   "id": "aec844e4-f059-417c-a1f1-2ede3c849757",
   "metadata": {},
   "outputs": [],
   "source": [
    "## 3.- Pide al usuario un número y deermina si es par o impar "
   ]
  },
  {
   "cell_type": "code",
   "execution_count": 12,
   "id": "86b2514b-ff28-4b23-9e67-c1fca1a82730",
   "metadata": {},
   "outputs": [
    {
     "name": "stdin",
     "output_type": "stream",
     "text": [
      "Introduce un número 13\n"
     ]
    },
    {
     "name": "stdout",
     "output_type": "stream",
     "text": [
      "el número es impar\n"
     ]
    }
   ],
   "source": [
    "numero = int(input('Introduce un número'))\n",
    "if numero%2 == 0:\n",
    "    print('el número es par')\n",
    "else:\n",
    "    print('el número es impar')\n"
   ]
  },
  {
   "cell_type": "code",
   "execution_count": null,
   "id": "4d898ae9-e600-476c-be2c-d9447adb0c57",
   "metadata": {},
   "outputs": [],
   "source": [
    "## 4.- Crea una función que reciba una lista y devuelva la lista invertida "
   ]
  },
  {
   "cell_type": "code",
   "execution_count": 4,
   "id": "105538a9-e7ed-4b46-8c6c-a4c1ef381c64",
   "metadata": {},
   "outputs": [
    {
     "data": {
      "text/plain": [
       "[5, 4, 3, 2, 1]"
      ]
     },
     "execution_count": 4,
     "metadata": {},
     "output_type": "execute_result"
    }
   ],
   "source": [
    "def lista_invertida(a):\n",
    "    invertida = []\n",
    "    for i in a[::-1]:\n",
    "        invertida.append(i)\n",
    "    return invertida\n",
    "lista_invertida([1,2,3,4,5])\n",
    "        "
   ]
  },
  {
   "cell_type": "code",
   "execution_count": null,
   "id": "37f88c70-d0d2-4efb-8d77-a24e4eabb3a6",
   "metadata": {},
   "outputs": [],
   "source": [
    "# Otra solución\n",
    "a.reverse()\n",
    "# Se puede usar esta función porque es una lista"
   ]
  },
  {
   "cell_type": "code",
   "execution_count": 7,
   "id": "53dfdd04-91d7-490b-997c-0547bb1baded",
   "metadata": {},
   "outputs": [
    {
     "name": "stdout",
     "output_type": "stream",
     "text": [
      "[5, 4, 3, 2, 1]\n"
     ]
    }
   ],
   "source": [
    "# Otra solución\n",
    "def list_inv(lista):\n",
    "    return lista[::-1]\n",
    "print(list_inv([1,2,3,4,5]))"
   ]
  },
  {
   "cell_type": "code",
   "execution_count": null,
   "id": "569b1e75-f678-46bc-a6e9-add7e373053a",
   "metadata": {},
   "outputs": [],
   "source": [
    "## 5.- Escribe un programa que calcule el factorial de un numero dado por el usuario "
   ]
  },
  {
   "cell_type": "code",
   "execution_count": 23,
   "id": "5090ea95-b93e-4ce5-a05e-935b57c696e6",
   "metadata": {},
   "outputs": [
    {
     "name": "stdin",
     "output_type": "stream",
     "text": [
      "Introduce un número:  6\n"
     ]
    },
    {
     "name": "stdout",
     "output_type": "stream",
     "text": [
      "Factorial del número 6 es: 720\n"
     ]
    }
   ],
   "source": [
    "numero = int(input('Introduce un número: '))\n",
    "factorial = 1\n",
    "for i in range(1,numero+1):\n",
    "    factorial *= i\n",
    "print(f\"Factorial del número {numero} es: {factorial}\")"
   ]
  },
  {
   "cell_type": "code",
   "execution_count": null,
   "id": "939f36f6-b302-4286-a45b-6b1e560f4140",
   "metadata": {},
   "outputs": [],
   "source": [
    "## 6.- Crea una lista con los cuadrados de los numeros del 1 al 20 "
   ]
  },
  {
   "cell_type": "code",
   "execution_count": 22,
   "id": "bb92fcd9-c2bb-4060-bc40-602003bd7df5",
   "metadata": {},
   "outputs": [
    {
     "name": "stdout",
     "output_type": "stream",
     "text": [
      "[1, 4, 9, 16, 25, 36, 49, 64, 81, 100, 121, 144, 169, 196, 225, 256, 289, 324, 361, 400]\n"
     ]
    }
   ],
   "source": [
    "lista = []\n",
    "for i in range(1,21):\n",
    "    lista.append(i*i)\n",
    "print(lista)\n"
   ]
  },
  {
   "cell_type": "code",
   "execution_count": 21,
   "id": "d59cd8ea-ba8e-4d5b-a835-848775c39353",
   "metadata": {},
   "outputs": [
    {
     "ename": "NameError",
     "evalue": "name 'n' is not defined",
     "output_type": "error",
     "traceback": [
      "\u001b[1;31m---------------------------------------------------------------------------\u001b[0m",
      "\u001b[1;31mNameError\u001b[0m                                 Traceback (most recent call last)",
      "Cell \u001b[1;32mIn[21], line 1\u001b[0m\n\u001b[1;32m----> 1\u001b[0m [n\u001b[38;5;241m*\u001b[39m\u001b[38;5;241m*\u001b[39m\u001b[38;5;241m2\u001b[39m \u001b[38;5;28;01mfor\u001b[39;00m i \u001b[38;5;129;01min\u001b[39;00m \u001b[38;5;28mrange\u001b[39m(\u001b[38;5;241m1\u001b[39m,\u001b[38;5;241m21\u001b[39m)]\n",
      "\u001b[1;31mNameError\u001b[0m: name 'n' is not defined"
     ]
    }
   ],
   "source": [
    "[n**2 for i in range(1,21)]"
   ]
  },
  {
   "cell_type": "code",
   "execution_count": 12,
   "id": "792439f5-d5f0-4bb9-a1f1-3aaf8963cd86",
   "metadata": {},
   "outputs": [],
   "source": [
    "## 7.- Escribe una función que cuente cuantas veces aparece un elemento en la lista"
   ]
  },
  {
   "cell_type": "code",
   "execution_count": 17,
   "id": "fb037a1a-365b-4de3-a05a-a03b6c8391cc",
   "metadata": {},
   "outputs": [
    {
     "ename": "IndexError",
     "evalue": "list index out of range",
     "output_type": "error",
     "traceback": [
      "\u001b[1;31m---------------------------------------------------------------------------\u001b[0m",
      "\u001b[1;31mIndexError\u001b[0m                                Traceback (most recent call last)",
      "Cell \u001b[1;32mIn[17], line 7\u001b[0m\n\u001b[0;32m      5\u001b[0m             contador \u001b[38;5;241m+\u001b[39m\u001b[38;5;241m=\u001b[39m \u001b[38;5;241m1\u001b[39m\n\u001b[0;32m      6\u001b[0m     \u001b[38;5;28;01mreturn\u001b[39;00m contador\n\u001b[1;32m----> 7\u001b[0m \u001b[38;5;28mprint\u001b[39m(func_count([\u001b[38;5;241m2\u001b[39m,\u001b[38;5;241m4\u001b[39m,\u001b[38;5;241m4\u001b[39m,\u001b[38;5;241m5\u001b[39m,\u001b[38;5;241m6\u001b[39m,\u001b[38;5;241m7\u001b[39m], \u001b[38;5;241m4\u001b[39m))\n",
      "Cell \u001b[1;32mIn[17], line 4\u001b[0m, in \u001b[0;36mfunc_count\u001b[1;34m(lista, elemento)\u001b[0m\n\u001b[0;32m      2\u001b[0m contador \u001b[38;5;241m=\u001b[39m \u001b[38;5;241m0\u001b[39m\n\u001b[0;32m      3\u001b[0m \u001b[38;5;28;01mfor\u001b[39;00m i \u001b[38;5;129;01min\u001b[39;00m lista:\n\u001b[1;32m----> 4\u001b[0m     \u001b[38;5;28;01mif\u001b[39;00m lista[i] \u001b[38;5;241m==\u001b[39m elemento:\n\u001b[0;32m      5\u001b[0m         contador \u001b[38;5;241m+\u001b[39m\u001b[38;5;241m=\u001b[39m \u001b[38;5;241m1\u001b[39m\n\u001b[0;32m      6\u001b[0m \u001b[38;5;28;01mreturn\u001b[39;00m contador\n",
      "\u001b[1;31mIndexError\u001b[0m: list index out of range"
     ]
    }
   ],
   "source": [
    "def func_count(lista, elemento):\n",
    "    contador = 0\n",
    "    for i in lista:\n",
    "        if lista[i] == elemento:\n",
    "            contador += 1\n",
    "    return contador\n",
    "print(func_count([2,4,4,5,6,7], 4))"
   ]
  },
  {
   "cell_type": "code",
   "execution_count": null,
   "id": "637227c0-29cc-4f19-96df-0b47a609587a",
   "metadata": {},
   "outputs": [],
   "source": [
    "## 8.- Pide al usuario una palabra y determina si es un palíndrimo"
   ]
  },
  {
   "cell_type": "code",
   "execution_count": 19,
   "id": "d10eb864-5dc2-4ca3-b989-3e2c8917d90d",
   "metadata": {},
   "outputs": [
    {
     "ename": "KeyboardInterrupt",
     "evalue": "Interrupted by user",
     "output_type": "error",
     "traceback": [
      "\u001b[1;31m---------------------------------------------------------------------------\u001b[0m",
      "\u001b[1;31mKeyboardInterrupt\u001b[0m                         Traceback (most recent call last)",
      "Cell \u001b[1;32mIn[19], line 1\u001b[0m\n\u001b[1;32m----> 1\u001b[0m palabra \u001b[38;5;241m=\u001b[39m \u001b[38;5;28minput\u001b[39m(\u001b[38;5;124m'\u001b[39m\u001b[38;5;124mIngresa la palabra\u001b[39m\u001b[38;5;124m'\u001b[39m)\n\u001b[0;32m      3\u001b[0m palabra \u001b[38;5;241m=\u001b[39m palabra\u001b[38;5;241m.\u001b[39mlower()\n\u001b[0;32m      4\u001b[0m \u001b[38;5;28;01mif\u001b[39;00m palabra \u001b[38;5;241m==\u001b[39m palabra[::\u001b[38;5;241m-\u001b[39m\u001b[38;5;241m1\u001b[39m]:\n",
      "File \u001b[1;32mC:\\ProgramData\\anaconda3\\Lib\\site-packages\\ipykernel\\kernelbase.py:1262\u001b[0m, in \u001b[0;36mKernel.raw_input\u001b[1;34m(self, prompt)\u001b[0m\n\u001b[0;32m   1260\u001b[0m     msg \u001b[38;5;241m=\u001b[39m \u001b[38;5;124m\"\u001b[39m\u001b[38;5;124mraw_input was called, but this frontend does not support input requests.\u001b[39m\u001b[38;5;124m\"\u001b[39m\n\u001b[0;32m   1261\u001b[0m     \u001b[38;5;28;01mraise\u001b[39;00m StdinNotImplementedError(msg)\n\u001b[1;32m-> 1262\u001b[0m \u001b[38;5;28;01mreturn\u001b[39;00m \u001b[38;5;28mself\u001b[39m\u001b[38;5;241m.\u001b[39m_input_request(\n\u001b[0;32m   1263\u001b[0m     \u001b[38;5;28mstr\u001b[39m(prompt),\n\u001b[0;32m   1264\u001b[0m     \u001b[38;5;28mself\u001b[39m\u001b[38;5;241m.\u001b[39m_parent_ident[\u001b[38;5;124m\"\u001b[39m\u001b[38;5;124mshell\u001b[39m\u001b[38;5;124m\"\u001b[39m],\n\u001b[0;32m   1265\u001b[0m     \u001b[38;5;28mself\u001b[39m\u001b[38;5;241m.\u001b[39mget_parent(\u001b[38;5;124m\"\u001b[39m\u001b[38;5;124mshell\u001b[39m\u001b[38;5;124m\"\u001b[39m),\n\u001b[0;32m   1266\u001b[0m     password\u001b[38;5;241m=\u001b[39m\u001b[38;5;28;01mFalse\u001b[39;00m,\n\u001b[0;32m   1267\u001b[0m )\n",
      "File \u001b[1;32mC:\\ProgramData\\anaconda3\\Lib\\site-packages\\ipykernel\\kernelbase.py:1305\u001b[0m, in \u001b[0;36mKernel._input_request\u001b[1;34m(self, prompt, ident, parent, password)\u001b[0m\n\u001b[0;32m   1302\u001b[0m \u001b[38;5;28;01mexcept\u001b[39;00m \u001b[38;5;167;01mKeyboardInterrupt\u001b[39;00m:\n\u001b[0;32m   1303\u001b[0m     \u001b[38;5;66;03m# re-raise KeyboardInterrupt, to truncate traceback\u001b[39;00m\n\u001b[0;32m   1304\u001b[0m     msg \u001b[38;5;241m=\u001b[39m \u001b[38;5;124m\"\u001b[39m\u001b[38;5;124mInterrupted by user\u001b[39m\u001b[38;5;124m\"\u001b[39m\n\u001b[1;32m-> 1305\u001b[0m     \u001b[38;5;28;01mraise\u001b[39;00m \u001b[38;5;167;01mKeyboardInterrupt\u001b[39;00m(msg) \u001b[38;5;28;01mfrom\u001b[39;00m \u001b[38;5;28;01mNone\u001b[39;00m\n\u001b[0;32m   1306\u001b[0m \u001b[38;5;28;01mexcept\u001b[39;00m \u001b[38;5;167;01mException\u001b[39;00m:\n\u001b[0;32m   1307\u001b[0m     \u001b[38;5;28mself\u001b[39m\u001b[38;5;241m.\u001b[39mlog\u001b[38;5;241m.\u001b[39mwarning(\u001b[38;5;124m\"\u001b[39m\u001b[38;5;124mInvalid Message:\u001b[39m\u001b[38;5;124m\"\u001b[39m, exc_info\u001b[38;5;241m=\u001b[39m\u001b[38;5;28;01mTrue\u001b[39;00m)\n",
      "\u001b[1;31mKeyboardInterrupt\u001b[0m: Interrupted by user"
     ]
    }
   ],
   "source": [
    "palabra = input('Ingresa la palabra')\n",
    "\n",
    "palabra = palabra.lower()\n",
    "if palabra == palabra[::-1]:\n",
    "    print('Palindromo')\n",
    "else:\n",
    "    print('No palindromo')"
   ]
  },
  {
   "cell_type": "code",
   "execution_count": null,
   "id": "1b5d5ac1-7bf8-46d8-bfd3-1a6ab831e980",
   "metadata": {},
   "outputs": [],
   "source": [
    "## 9.- Escribe un programa que imprima la tabla de multiplicar de un numero dado"
   ]
  },
  {
   "cell_type": "code",
   "execution_count": 27,
   "id": "5797d8bc-d4ed-42d9-8d43-70fe19899c78",
   "metadata": {},
   "outputs": [
    {
     "name": "stdin",
     "output_type": "stream",
     "text": [
      "Introduce un número:  6\n"
     ]
    },
    {
     "name": "stdout",
     "output_type": "stream",
     "text": [
      "6 x 1 = 6\n",
      "6 x 2 = 12\n",
      "6 x 3 = 18\n",
      "6 x 4 = 24\n",
      "6 x 5 = 30\n",
      "6 x 6 = 36\n",
      "6 x 7 = 42\n",
      "6 x 8 = 48\n",
      "6 x 9 = 54\n",
      "6 x 10 = 60\n"
     ]
    }
   ],
   "source": [
    "numero = int(input('Introduce un número: '))\n",
    "resultado = 1\n",
    "for i in range(1,11):\n",
    "    print(f'{numero} x {i} = {numero*i}')\n"
   ]
  },
  {
   "cell_type": "code",
   "execution_count": null,
   "id": "f7ec3e6b-7373-4cc7-af82-b5d2f3fbd5d9",
   "metadata": {},
   "outputs": [],
   "source": [
    "## 10.- Crea un diccionario con nombres de personas y sus edades, luego imprime solo los nombres de las personas mayores de 18 años"
   ]
  },
  {
   "cell_type": "code",
   "execution_count": 26,
   "id": "6c43809f-b2b0-40d1-b804-5a87db98c880",
   "metadata": {},
   "outputs": [
    {
     "name": "stdout",
     "output_type": "stream",
     "text": [
      "jorge tiene 28 años.\n",
      "vivky tiene 49 años.\n"
     ]
    }
   ],
   "source": [
    "persona = {'jorge':28, 'luis':13, 'vivky':49, 'eli':9}\n",
    "for nombre, edad in persona.items():\n",
    "    if edad >= 18:\n",
    "        print(f'{nombre} tiene {edad} años.')"
   ]
  },
  {
   "cell_type": "code",
   "execution_count": null,
   "id": "7415d614-14aa-41e5-a31d-6cd4bf88682b",
   "metadata": {},
   "outputs": [],
   "source": []
  }
 ],
 "metadata": {
  "kernelspec": {
   "display_name": "Python 3 (ipykernel)",
   "language": "python",
   "name": "python3"
  },
  "language_info": {
   "codemirror_mode": {
    "name": "ipython",
    "version": 3
   },
   "file_extension": ".py",
   "mimetype": "text/x-python",
   "name": "python",
   "nbconvert_exporter": "python",
   "pygments_lexer": "ipython3",
   "version": "3.12.4"
  }
 },
 "nbformat": 4,
 "nbformat_minor": 5
}

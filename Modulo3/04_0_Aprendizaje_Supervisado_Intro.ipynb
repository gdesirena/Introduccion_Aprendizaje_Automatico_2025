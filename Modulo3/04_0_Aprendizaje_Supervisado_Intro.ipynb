{
 "cells": [
  {
   "cell_type": "markdown",
   "id": "239848d2",
   "metadata": {},
   "source": [
    "\n",
    "<img style=\"float: left;;\" src='Figures/alinco.png' /></a>\n",
    "    \n",
    "# <center> <font color= #000047> Modulo III: Aprendizaje supervizado: Introducción\n",
    "\n",
    "El **aprendizaje supervisado** es una rama del aprendizaje automático donde el modelo aprende a partir de datos etiquetados. El objetivo es predecir una salida (etiqueta) a partir de una entrada, basándose en ejemplos previos.\n"
   ]
  },
  {
   "cell_type": "markdown",
   "id": "96e1fa19",
   "metadata": {},
   "source": [
    "## ¿Cómo funciona el aprendizaje supervisado?\n",
    "\n",
    "1. **Datos etiquetados:** Se dispone de un conjunto de datos donde cada ejemplo tiene una entrada (features) y una salida conocida (etiqueta o valor).\n",
    "2. **Entrenamiento:** El algoritmo aprende una función que mapea las entradas a las salidas.\n",
    "3. **Predicción:** Una vez entrenado, el modelo puede predecir la salida para nuevas entradas no vistas.\n",
    "\n",
    "### Tipos de problemas\n",
    "- **Clasificación:** La salida es una etiqueta discreta (por ejemplo, spam/no spam, tipo de flor).\n",
    "- **Regresión:** La salida es un valor continuo (por ejemplo, precio de una casa, temperatura)."
   ]
  },
  {
   "cell_type": "markdown",
   "id": "6fae57a0",
   "metadata": {},
   "source": [
    "## Ejemplos de algoritmos de aprendizaje supervisado\n",
    "\n",
    "| Algoritmo | Tipo | Descripción |\n",
    "|-----------|------|-------------|\n",
    "| Regresión Lineal | Regresión | Predice valores continuos ajustando una línea recta a los datos. |\n",
    "| Regresión Logística | Clasificación | Predice probabilidades para clasificación binaria. |\n",
    "| k-Nearest Neighbors (k-NN) | Clasificación/Regresión | Predice la etiqueta según los vecinos más cercanos. |\n",
    "| Árboles de Decisión | Clasificación/Regresión | Utiliza reglas en forma de árbol para tomar decisiones. |\n",
    "| Random Forest | Clasificación/Regresión | Conjunto de árboles de decisión para mejorar precisión. |\n",
    "| Support Vector Machines (SVM) | Clasificación/Regresión | Encuentra el hiperplano óptimo que separa las clases. |\n",
    "| Redes Neuronales | Ambos | Modelos inspirados en el cerebro humano, capaces de aprender patrones complejos. |"
   ]
  },
  {
   "cell_type": "markdown",
   "id": "382cf090",
   "metadata": {},
   "source": [
    "## Librerías comunes en Python para aprendizaje supervisado\n",
    "\n",
    "- **scikit-learn:** Principal librería para machine learning clásico (modelos, métricas, preprocesamiento).\n",
    "- **pandas:** Manipulación y análisis de datos.\n",
    "- **numpy:** Operaciones numéricas y algebra lineal.\n",
    "- **matplotlib / seaborn:** Visualización de datos.\n",
    "- **tensorflow / pytorch:** Redes neuronales y deep learning.\n",
    "\n"
   ]
  },
  {
   "cell_type": "code",
   "execution_count": null,
   "id": "9a5846b5-bd76-43aa-b5a5-2bd9ee2f71a6",
   "metadata": {},
   "outputs": [],
   "source": []
  }
 ],
 "metadata": {
  "kernelspec": {
   "display_name": "Python 3 (ipykernel)",
   "language": "python",
   "name": "python3"
  },
  "language_info": {
   "codemirror_mode": {
    "name": "ipython",
    "version": 3
   },
   "file_extension": ".py",
   "mimetype": "text/x-python",
   "name": "python",
   "nbconvert_exporter": "python",
   "pygments_lexer": "ipython3",
   "version": "3.12.7"
  }
 },
 "nbformat": 4,
 "nbformat_minor": 5
}

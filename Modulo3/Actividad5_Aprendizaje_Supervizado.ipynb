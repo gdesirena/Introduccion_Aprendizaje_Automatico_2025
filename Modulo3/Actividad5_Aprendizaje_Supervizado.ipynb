{
 "cells": [
  {
   "cell_type": "markdown",
   "metadata": {},
   "source": [
    "\n",
    "<img style=\"float: left;;\" src='Figures/alinco.png' /></a>\n",
    "    \n",
    "\n",
    "# <center> <font color= #000047> Aprendizaje Superviado: Regresión Lineal & Logistica </font> </center>\n"
   ]
  },
  {
   "cell_type": "markdown",
   "metadata": {},
   "source": [
    "<div class=\"alert alert-danger\" style=\"margin: 10px\"><strong>NOTA IMPORTANTE!</strong> Esta actividad no es obligatoria para entregar. si se entrega antes del domingo 21/09/2025, se considerará un punto para la calificación final.</div>"
   ]
  },
  {
   "cell_type": "markdown",
   "metadata": {},
   "source": [
    "#### Ejercicio 1: Considere el dataset `Position_Salaries.csv` en la carpeta Data, y realize lo que se pide:\n",
    "\n",
    "- Crear una regresión polinomial para obtener un modelo polinomial de grado 3. \n",
    "- Predecir los siguientes niveles: x_new=[11, 13, 15]\n",
    "- Graficar los salarios de los valores de x_new"
   ]
  },
  {
   "cell_type": "code",
   "execution_count": null,
   "metadata": {},
   "outputs": [],
   "source": []
  },
  {
   "cell_type": "markdown",
   "metadata": {},
   "source": [
    "#### Ejercicio 2: Considere el dataset `apples_and_oranges.csv` en la carpeta Data, y realize lo que se pide:\n",
    "- Crear un modelo de regresión logística\n",
    "- predecir una nueva entrada x_new=[[70.5, 5.1],[65, 4.1]]\n",
    "- Graficar los nuevos datos con su predicción"
   ]
  },
  {
   "cell_type": "code",
   "execution_count": null,
   "metadata": {},
   "outputs": [],
   "source": []
  }
 ],
 "metadata": {
  "anaconda-cloud": {},
  "kernelspec": {
   "display_name": "Python 3 (ipykernel)",
   "language": "python",
   "name": "python3"
  },
  "language_info": {
   "codemirror_mode": {
    "name": "ipython",
    "version": 3
   },
   "file_extension": ".py",
   "mimetype": "text/x-python",
   "name": "python",
   "nbconvert_exporter": "python",
   "pygments_lexer": "ipython3",
   "version": "3.12.7"
  }
 },
 "nbformat": 4,
 "nbformat_minor": 4
}

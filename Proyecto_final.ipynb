{
 "cells": [
  {
   "cell_type": "markdown",
   "metadata": {},
   "source": [
    "\n",
    "<img style=\"float: left;;\" src='Figures/alinco.png' /></a>\n",
    "\n",
    "<center> <font color= #000047 size=6> Introducción al Aprendizaje Automático\n",
    "<center> <font color= #000047 size=6> \n",
    "<p><p>\n",
    "<center> <font color= #000047 size=6> Proyecto Final\n",
    "    "
   ]
  },
  {
   "cell_type": "markdown",
   "metadata": {},
   "source": [
    "### OBJETIVO: \n",
    "\n",
    "El objetivo del proyecto es evaluar el conocimiento adquirido en el curso. "
   ]
  },
  {
   "cell_type": "markdown",
   "metadata": {},
   "source": [
    "## Entregables:\n"
   ]
  },
  {
   "cell_type": "markdown",
   "metadata": {},
   "source": [
    "## Proyecto de Aplicación usando Python: Análisis Exploratorio de los Datos y Clustering\n",
    "1. **Definición del problema**. Se le asignará a los estudiantes un dataset para un problema a ser resuelto. Basado en los datos seleccionados se procederá a explorar y proponer modelos de machine learning de **clustering**. Si la selección de los datos es complicada, como sugerencia pueden tomar el que sea de su interés de las siguientes páginas: \n",
    "\n",
    "> http://archive.ics.uci.edu/ml/\n",
    "\n",
    "> https://www.kdnuggets.com/datasets/index.html\n",
    "\n",
    "> https://www.kaggle.com/datasets\n",
    "\n",
    "> https://data.world/\n",
    "\n",
    "**NOTA:** Si tienen alguna duda sobre el dataset que se eligió, podemos consultaro en alguna asesoría.\n",
    "\n",
    "2. **Visualización, exploración, y análisis de datos:** \n",
    "\n",
    "> 2.1  Extracción de información estadística básica en los datos analizados.\n",
    "\n",
    "> 2.2 Obtenga almenos 5 insights de sus resultados. Se deben incluir gráficos interesantes que muestren el comportamiento de los datos y cómo se relacionan, así como acompañar los gráficos con una explicación de lo que se observa en el gráfico. \n",
    "\n",
    "3. **Clusterización de los datos:** \n",
    "\n",
    ">3.1 Mediante los criterios del codo y del gradiente obtenga el número de grupos optimos para realizar una clusterización por clustering jerárquico.\n",
    "\n",
    ">3.2 Mediante los criterios del codo y del gradiente obtenga el número de grupos optimos para realizar una clusterización por Kmeans.\n",
    "\n",
    ">3.3 Obtenga gráficos y comente sus resultados, ¿qué representaría cada agrupación (cluster)?.\n"
   ]
  },
  {
   "cell_type": "markdown",
   "metadata": {},
   "source": [
    "## Productos a calificar:\n",
    "\n",
    "> 1. Reporte donde se explicará el proceso que se siguió para resolver el problema y se expondrán los resultados (en word o PDF).\n",
    "\n",
    "> 2. Código en jupyter notebook o en spyder \n"
   ]
  },
  {
   "cell_type": "markdown",
   "metadata": {},
   "source": [
    "### Calificación"
   ]
  },
  {
   "cell_type": "markdown",
   "metadata": {},
   "source": [
    "La calificación de cada fase del proyecto incluido en el reporte final es la siguiente:\n",
    "\n",
    "| Fase | Puntuación | Características Generales |\n",
    "| --- | --- | --- |\n",
    "|   | **Entrega 1** | |\n",
    "| Definición del problema | 20% | 1. Mencionar el origen de los datos <br /> 2.Dar contexto de los datos (significado de las variables si es posible) <br /> 3. Describir de qué se trata el problema a resolver|\n",
    "| Preparación de datos | 40% | 1. Incluya **gráficos** y métricas utilizadas para describir la base de datos. <br /> 2. Describir 5 insights (descubrimientos, conclusiones) sobre el conjunto de datos, usando la librería de pandas (filtros, conteo de valores, gráficas). |\n",
    "| Procesar modelo de Clustering | 40% | 1. Describir el modelo aplicado (kmeans, clustering jerárquico). <br /> 2. Obtener el número de grupos optimos apartir de los criterios vistos en clase. <br />|\n"
   ]
  },
  {
   "cell_type": "markdown",
   "metadata": {},
   "source": [
    "### ¿ Qué debe tener cada entregable?"
   ]
  },
  {
   "cell_type": "markdown",
   "metadata": {},
   "source": [
    "- El informe del trabajo realizado se entregará digitalmente en un documento elaborado en una computadora (no fotografías de hojas o cuadernos), e incluirá como mínimo:\n",
    "    - **Nombre y apellidos de alumno de los integrantes del equipo.**\n",
    "    \n",
    "-  Es obligatorio que incluyan el código que generaron para la realización de la práctica (si adjuntan los archivos .py del código no es necesario que el código aparezca en su reporte; es suficiente que lo mencionen en alguna parte de su reporte y que indiquen el orden o forma hicieron la implementación de su algoritmo). La recomendación es que agreguen los códigos como apéndices en su reporte.\n",
    "\n",
    "- Es necesario que exista un capítulo que describa la solución que se propuso para el problema.\n",
    "\n",
    "- Por la asignación de datos a cada equipo, se espera que se obtengan resultados distintos en cada reporte (no copiar).\n",
    "\n",
    "- Incluyan figuras para visualizar los resultados.\n",
    "\n",
    "- Es obligatorio tener una sección de Introducción, desarrollo y conclusiones.\n"
   ]
  },
  {
   "cell_type": "code",
   "execution_count": null,
   "metadata": {},
   "outputs": [],
   "source": []
  }
 ],
 "metadata": {
  "kernelspec": {
   "display_name": "Python 3 (ipykernel)",
   "language": "python",
   "name": "python3"
  },
  "language_info": {
   "codemirror_mode": {
    "name": "ipython",
    "version": 3
   },
   "file_extension": ".py",
   "mimetype": "text/x-python",
   "name": "python",
   "nbconvert_exporter": "python",
   "pygments_lexer": "ipython3",
   "version": "3.12.7"
  }
 },
 "nbformat": 4,
 "nbformat_minor": 4
}
